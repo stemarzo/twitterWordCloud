{
  "cells": [
    {
      "cell_type": "markdown",
      "metadata": {
        "id": "GpkU3zvl_Mpk"
      },
      "source": [
        "#IMPORT"
      ]
    },
    {
      "cell_type": "code",
      "execution_count": null,
      "metadata": {
        "id": "Vdlgyqo3GfZB"
      },
      "outputs": [],
      "source": [
        "import tweepy\n",
        "import json\n",
        "import pandas as pd\n",
        "from datetime import date, timedelta\n",
        "import html\n",
        "import re\n",
        "from nltk.corpus import stopwords\n",
        "from nltk.tokenize import word_tokenize"
      ]
    },
    {
      "cell_type": "code",
      "execution_count": null,
      "metadata": {
        "colab": {
          "base_uri": "https://localhost:8080/"
        },
        "id": "iUO_fUzG6fQN",
        "outputId": "0857ac35-b8a8-4f6a-f7c6-434954468fbd"
      },
      "outputs": [
        {
          "name": "stdout",
          "output_type": "stream",
          "text": [
            "bin/\n",
            "bin/train-tree-tagger\n",
            "bin/separate-punctuation\n",
            "bin/tree-tagger\n",
            "bin/tree-tagger-flush\n",
            "cmd/\n",
            "cmd/lookup.perl\n",
            "COPYRIGHT\n",
            "doc/\n",
            "doc/sigdat95.pdf\n",
            "doc/nemlap94.pdf\n",
            "FILES\n",
            "README\n",
            "Release-Notes\n",
            "\n",
            "Italian parameter file installed.\n",
            "Tagging scripts installed.\n",
            "Path variables modified in tagging scripts.\n",
            "\n",
            "You might want to add /content/treetagger/cmd and /content/treetagger/bin to the PATH variable so that you do not need to specify the full path to run the tagging scripts.\n",
            "\n",
            "Looking in indexes: https://pypi.org/simple, https://us-python.pkg.dev/colab-wheels/public/simple/\n",
            "Collecting treetaggerwrapper\n",
            "  Downloading treetaggerwrapper-2.3.tar.gz (43 kB)\n",
            "     ━━━━━━━━━━━━━━━━━━━━━━━━━━━━━━━━━━━━━━━ 43.8/43.8 KB 888.3 kB/s eta 0:00:00\n",
            "  Preparing metadata (setup.py): started\n",
            "  Preparing metadata (setup.py): finished with status 'done'\n",
            "Building wheels for collected packages: treetaggerwrapper\n",
            "  Building wheel for treetaggerwrapper (setup.py): started\n",
            "  Building wheel for treetaggerwrapper (setup.py): finished with status 'done'\n",
            "  Created wheel for treetaggerwrapper: filename=treetaggerwrapper-2.3-py3-none-any.whl size=40759 sha256=d02ace11d86acedcfb6146a91911e8a666ea995569bf52972cee66aed5e00734\n",
            "  Stored in directory: /root/.cache/pip/wheels/53/3f/68/dbea5bf2abd18d7d33c8f3f9a13151cae1bafed5e3ec97c473\n",
            "Successfully built treetaggerwrapper\n",
            "Installing collected packages: treetaggerwrapper\n",
            "Successfully installed treetaggerwrapper-2.3\n"
          ]
        },
        {
          "name": "stderr",
          "output_type": "stream",
          "text": [
            "--2023-04-03 15:10:52--  https://cis.lmu.de/~schmid/tools/TreeTagger/data/tree-tagger-linux-3.2.4.tar.gz\n",
            "Resolving cis.lmu.de (cis.lmu.de)... 129.187.148.72, 2001:4ca0:4f01::5\n",
            "Connecting to cis.lmu.de (cis.lmu.de)|129.187.148.72|:443... connected.\n",
            "HTTP request sent, awaiting response... 200 OK\n",
            "Length: 1889240 (1.8M) [application/x-gzip]\n",
            "Saving to: ‘tree-tagger-linux-3.2.4.tar.gz’\n",
            "\n",
            "     0K .......... .......... .......... .......... ..........  2%  210K 9s\n",
            "    50K .......... .......... .......... .......... ..........  5%  422K 6s\n",
            "   100K .......... .......... .......... .......... ..........  8% 31.2M 4s\n",
            "   150K .......... .......... .......... .......... .......... 10% 31.1M 3s\n",
            "   200K .......... .......... .......... .......... .......... 13%  427K 3s\n",
            "   250K .......... .......... .......... .......... .......... 16% 28.6M 2s\n",
            "   300K .......... .......... .......... .......... .......... 18% 35.0M 2s\n",
            "   350K .......... .......... .......... .......... .......... 21% 25.1M 2s\n",
            "   400K .......... .......... .......... .......... .......... 24%  442K 2s\n",
            "   450K .......... .......... .......... .......... .......... 27% 37.8M 2s\n",
            "   500K .......... .......... .......... .......... .......... 29% 38.6M 1s\n",
            "   550K .......... .......... .......... .......... .......... 32% 42.3M 1s\n",
            "   600K .......... .......... .......... .......... .......... 35% 40.0M 1s\n",
            "   650K .......... .......... .......... .......... .......... 37% 43.2M 1s\n",
            "   700K .......... .......... .......... .......... .......... 40% 41.7M 1s\n",
            "   750K .......... .......... .......... .......... .......... 43% 46.8M 1s\n",
            "   800K .......... .......... .......... .......... .......... 46% 90.8M 1s\n",
            "   850K .......... .......... .......... .......... .......... 48%  454K 1s\n",
            "   900K .......... .......... .......... .......... .......... 51% 51.6M 1s\n",
            "   950K .......... .......... .......... .......... .......... 54%  123M 1s\n",
            "  1000K .......... .......... .......... .......... .......... 56%  211M 1s\n",
            "  1050K .......... .......... .......... .......... .......... 59% 88.1M 0s\n",
            "  1100K .......... .......... .......... .......... .......... 62% 54.7M 0s\n",
            "  1150K .......... .......... .......... .......... .......... 65% 54.6M 0s\n",
            "  1200K .......... .......... .......... .......... .......... 67%  193M 0s\n",
            "  1250K .......... .......... .......... .......... .......... 70%  215M 0s\n",
            "  1300K .......... .......... .......... .......... .......... 73%  160M 0s\n",
            "  1350K .......... .......... .......... .......... .......... 75% 45.1M 0s\n",
            "  1400K .......... .......... .......... .......... .......... 78% 51.9M 0s\n",
            "  1450K .......... .......... .......... .......... .......... 81% 38.4M 0s\n",
            "  1500K .......... .......... .......... .......... .......... 84% 88.4M 0s\n",
            "  1550K .......... .......... .......... .......... .......... 86%  276M 0s\n",
            "  1600K .......... .......... .......... .......... .......... 89%  276M 0s\n",
            "  1650K .......... .......... .......... .......... .......... 92%  365M 0s\n",
            "  1700K .......... .......... .......... .......... .......... 94%  210M 0s\n",
            "  1750K .......... .......... .......... .......... .......... 97%  456K 0s\n",
            "  1800K .......... .......... .......... .......... ....      100% 69.8M=0.8s\n",
            "\n",
            "2023-04-03 15:10:54 (2.16 MB/s) - ‘tree-tagger-linux-3.2.4.tar.gz’ saved [1889240/1889240]\n",
            "\n",
            "--2023-04-03 15:10:54--  https://cis.lmu.de/~schmid/tools/TreeTagger/data/tagger-scripts.tar.gz\n",
            "Resolving cis.lmu.de (cis.lmu.de)... 129.187.148.72, 2001:4ca0:4f01::5\n",
            "Connecting to cis.lmu.de (cis.lmu.de)|129.187.148.72|:443... connected.\n",
            "HTTP request sent, awaiting response... 200 OK\n",
            "Length: 212275 (207K) [application/x-gzip]\n",
            "Saving to: ‘tagger-scripts.tar.gz’\n",
            "\n",
            "     0K .......... .......... .......... .......... .......... 24%  211K 1s\n",
            "    50K .......... .......... .......... .......... .......... 48%  422K 0s\n",
            "   100K .......... .......... .......... .......... .......... 72% 34.4M 0s\n",
            "   150K .......... .......... .......... .......... .......... 96% 30.7M 0s\n",
            "   200K .......                                               100% 56.3M=0.4s\n",
            "\n",
            "2023-04-03 15:10:55 (578 KB/s) - ‘tagger-scripts.tar.gz’ saved [212275/212275]\n",
            "\n",
            "--2023-04-03 15:10:55--  https://cis.lmu.de/~schmid/tools/TreeTagger/data/install-tagger.sh\n",
            "Resolving cis.lmu.de (cis.lmu.de)... 129.187.148.72, 2001:4ca0:4f01::5\n",
            "Connecting to cis.lmu.de (cis.lmu.de)|129.187.148.72|:443... connected.\n",
            "HTTP request sent, awaiting response... 200 OK\n",
            "Length: 15444 (15K) [application/x-shellscript]\n",
            "Saving to: ‘install-tagger.sh’\n",
            "\n",
            "     0K .......... .....                                      100%  127K=0.1s\n",
            "\n",
            "2023-04-03 15:10:55 (127 KB/s) - ‘install-tagger.sh’ saved [15444/15444]\n",
            "\n",
            "--2023-04-03 15:10:55--  https://cis.lmu.de/~schmid/tools/TreeTagger/data/italian.par.gz\n",
            "Resolving cis.lmu.de (cis.lmu.de)... 129.187.148.72, 2001:4ca0:4f01::5\n",
            "Connecting to cis.lmu.de (cis.lmu.de)|129.187.148.72|:443... connected.\n",
            "HTTP request sent, awaiting response... 200 OK\n",
            "Length: 6135113 (5.9M) [application/x-gzip]\n",
            "Saving to: ‘italian.par.gz’\n",
            "\n",
            "     0K .......... .......... .......... .......... ..........  0%  209K 28s\n",
            "    50K .......... .......... .......... .......... ..........  1%  423K 21s\n",
            "   100K .......... .......... .......... .......... ..........  2% 29.7M 14s\n",
            "   150K .......... .......... .......... .......... ..........  3% 29.9M 10s\n",
            "   200K .......... .......... .......... .......... ..........  4%  428K 11s\n",
            "   250K .......... .......... .......... .......... ..........  5% 28.7M 9s\n",
            "   300K .......... .......... .......... .......... ..........  5% 33.1M 8s\n",
            "   350K .......... .......... .......... .......... ..........  6% 25.9M 7s\n",
            "   400K .......... .......... .......... .......... ..........  7%  440K 7s\n",
            "   450K .......... .......... .......... .......... ..........  8% 40.6M 7s\n",
            "   500K .......... .......... .......... .......... ..........  9% 56.9M 6s\n",
            "   550K .......... .......... .......... .......... .......... 10% 56.3M 5s\n",
            "   600K .......... .......... .......... .......... .......... 10% 49.8M 5s\n",
            "   650K .......... .......... .......... .......... .......... 11% 40.4M 5s\n",
            "   700K .......... .......... .......... .......... .......... 12% 41.1M 4s\n",
            "   750K .......... .......... .......... .......... .......... 13% 56.0M 4s\n",
            "   800K .......... .......... .......... .......... .......... 14% 54.5M 4s\n",
            "   850K .......... .......... .......... .......... .......... 15%  451K 4s\n",
            "   900K .......... .......... .......... .......... .......... 15% 51.7M 4s\n",
            "   950K .......... .......... .......... .......... .......... 16% 36.2M 4s\n",
            "  1000K .......... .......... .......... .......... .......... 17% 52.6M 3s\n",
            "  1050K .......... .......... .......... .......... .......... 18% 45.1M 3s\n",
            "  1100K .......... .......... .......... .......... .......... 19%  204M 3s\n",
            "  1150K .......... .......... .......... .......... .......... 20%  208M 3s\n",
            "  1200K .......... .......... .......... .......... .......... 20%  107M 3s\n",
            "  1250K .......... .......... .......... .......... .......... 21%  160M 3s\n",
            "  1300K .......... .......... .......... .......... .......... 22%  283M 2s\n",
            "  1350K .......... .......... .......... .......... .......... 23%  161M 2s\n",
            "  1400K .......... .......... .......... .......... .......... 24%  215M 2s\n",
            "  1450K .......... .......... .......... .......... .......... 25%  162M 2s\n",
            "  1500K .......... .......... .......... .......... .......... 25% 61.6M 2s\n",
            "  1550K .......... .......... .......... .......... .......... 26% 51.9M 2s\n",
            "  1600K .......... .......... .......... .......... .......... 27% 73.2M 2s\n",
            "  1650K .......... .......... .......... .......... .......... 28% 97.8M 2s\n",
            "  1700K .......... .......... .......... .......... .......... 29%  115M 2s\n",
            "  1750K .......... .......... .......... .......... .......... 30%  459K 2s\n",
            "  1800K .......... .......... .......... .......... .......... 30% 65.6M 2s\n",
            "  1850K .......... .......... .......... .......... .......... 31% 60.6M 2s\n",
            "  1900K .......... .......... .......... .......... .......... 32% 43.8M 2s\n",
            "  1950K .......... .......... .......... .......... .......... 33% 31.8M 2s\n",
            "  2000K .......... .......... .......... .......... .......... 34% 39.5M 2s\n",
            "  2050K .......... .......... .......... .......... .......... 35% 49.8M 2s\n",
            "  2100K .......... .......... .......... .......... .......... 35% 39.4M 2s\n",
            "  2150K .......... .......... .......... .......... .......... 36% 49.5M 1s\n",
            "  2200K .......... .......... .......... .......... .......... 37% 62.1M 1s\n",
            "  2250K .......... .......... .......... .......... .......... 38% 63.8M 1s\n",
            "  2300K .......... .......... .......... .......... .......... 39% 60.8M 1s\n",
            "  2350K .......... .......... .......... .......... .......... 40% 67.6M 1s\n",
            "  2400K .......... .......... .......... .......... .......... 40% 49.5M 1s\n",
            "  2450K .......... .......... .......... .......... .......... 41% 43.1M 1s\n",
            "  2500K .......... .......... .......... .......... .......... 42% 81.4M 1s\n",
            "  2550K .......... .......... .......... .......... .......... 43% 61.1M 1s\n",
            "  2600K .......... .......... .......... .......... .......... 44% 43.7M 1s\n",
            "  2650K .......... .......... .......... .......... .......... 45%  137M 1s\n",
            "  2700K .......... .......... .......... .......... .......... 45%  267M 1s\n",
            "  2750K .......... .......... .......... .......... .......... 46%  207M 1s\n",
            "  2800K .......... .......... .......... .......... .......... 47%  148M 1s\n",
            "  2850K .......... .......... .......... .......... .......... 48%  220M 1s\n",
            "  2900K .......... .......... .......... .......... .......... 49%  218M 1s\n",
            "  2950K .......... .......... .......... .......... .......... 50% 50.9M 1s\n",
            "  3000K .......... .......... .......... .......... .......... 50%  131M 1s\n",
            "  3050K .......... .......... .......... .......... .......... 51% 91.5M 1s\n",
            "  3100K .......... .......... .......... .......... .......... 52% 72.6M 1s\n",
            "  3150K .......... .......... .......... .......... .......... 53% 55.1M 1s\n",
            "  3200K .......... .......... .......... .......... .......... 54%  196M 1s\n",
            "  3250K .......... .......... .......... .......... .......... 55%  221M 1s\n",
            "  3300K .......... .......... .......... .......... .......... 55% 82.6M 1s\n",
            "  3350K .......... .......... .......... .......... .......... 56% 47.3M 1s\n",
            "  3400K .......... .......... .......... .......... .......... 57% 52.2M 1s\n",
            "  3450K .......... .......... .......... .......... .......... 58% 48.0M 1s\n",
            "  3500K .......... .......... .......... .......... .......... 59%  222M 1s\n",
            "  3550K .......... .......... .......... .......... .......... 60%  536K 1s\n",
            "  3600K .......... .......... .......... .......... .......... 60% 42.7M 1s\n",
            "  3650K .......... .......... .......... .......... .......... 61% 55.9M 1s\n",
            "  3700K .......... .......... .......... .......... .......... 62% 53.6M 1s\n",
            "  3750K .......... .......... .......... .......... .......... 63% 64.0M 1s\n",
            "  3800K .......... .......... .......... .......... .......... 64% 99.8M 1s\n",
            "  3850K .......... .......... .......... .......... .......... 65%  161M 1s\n",
            "  3900K .......... .......... .......... .......... .......... 65%  149M 0s\n",
            "  3950K .......... .......... .......... .......... .......... 66%  189M 0s\n",
            "  4000K .......... .......... .......... .......... .......... 67%  269M 0s\n",
            "  4050K .......... .......... .......... .......... .......... 68%  249M 0s\n",
            "  4100K .......... .......... .......... .......... .......... 69%  226M 0s\n",
            "  4150K .......... .......... .......... .......... .......... 70%  282M 0s\n",
            "  4200K .......... .......... .......... .......... .......... 70%  107M 0s\n",
            "  4250K .......... .......... .......... .......... .......... 71%  162M 0s\n",
            "  4300K .......... .......... .......... .......... .......... 72%  176M 0s\n",
            "  4350K .......... .......... .......... .......... .......... 73%  139M 0s\n",
            "  4400K .......... .......... .......... .......... .......... 74%  178M 0s\n",
            "  4450K .......... .......... .......... .......... .......... 75%  134M 0s\n",
            "  4500K .......... .......... .......... .......... .......... 75% 69.8M 0s\n",
            "  4550K .......... .......... .......... .......... .......... 76%  173M 0s\n",
            "  4600K .......... .......... .......... .......... .......... 77%  135M 0s\n",
            "  4650K .......... .......... .......... .......... .......... 78%  180M 0s\n",
            "  4700K .......... .......... .......... .......... .......... 79% 75.3M 0s\n",
            "  4750K .......... .......... .......... .......... .......... 80%  104M 0s\n",
            "  4800K .......... .......... .......... .......... .......... 80%  231M 0s\n",
            "  4850K .......... .......... .......... .......... .......... 81%  101M 0s\n",
            "  4900K .......... .......... .......... .......... .......... 82% 80.1M 0s\n",
            "  4950K .......... .......... .......... .......... .......... 83% 89.2M 0s\n",
            "  5000K .......... .......... .......... .......... .......... 84% 97.8M 0s\n",
            "  5050K .......... .......... .......... .......... .......... 85% 72.3M 0s\n",
            "  5100K .......... .......... .......... .......... .......... 85% 99.3M 0s\n",
            "  5150K .......... .......... .......... .......... .......... 86%  186M 0s\n",
            "  5200K .......... .......... .......... .......... .......... 87%  166M 0s\n",
            "  5250K .......... .......... .......... .......... .......... 88%  131M 0s\n",
            "  5300K .......... .......... .......... .......... .......... 89%  156M 0s\n",
            "  5350K .......... .......... .......... .......... .......... 90% 58.3M 0s\n",
            "  5400K .......... .......... .......... .......... .......... 90% 47.1M 0s\n",
            "  5450K .......... .......... .......... .......... .......... 91%  181M 0s\n",
            "  5500K .......... .......... .......... .......... .......... 92%  184M 0s\n",
            "  5550K .......... .......... .......... .......... .......... 93%  132M 0s\n",
            "  5600K .......... .......... .......... .......... .......... 94% 44.6M 0s\n",
            "  5650K .......... .......... .......... .......... .......... 95% 60.4M 0s\n",
            "  5700K .......... .......... .......... .......... .......... 95% 40.3M 0s\n",
            "  5750K .......... .......... .......... .......... .......... 96% 62.9M 0s\n",
            "  5800K .......... .......... .......... .......... .......... 97% 79.5M 0s\n",
            "  5850K .......... .......... .......... .......... .......... 98%  211M 0s\n",
            "  5900K .......... .......... .......... .......... .......... 99%  245M 0s\n",
            "  5950K .......... .......... .......... .......... .         100%  217M=1.0s\n",
            "\n",
            "2023-04-03 15:10:57 (5.99 MB/s) - ‘italian.par.gz’ saved [6135113/6135113]\n",
            "\n",
            "mkdir: cannot create directory ‘cmd’: File exists\n",
            "mkdir: cannot create directory ‘bin’: File exists\n",
            "mkdir: cannot create directory ‘doc’: File exists\n"
          ]
        }
      ],
      "source": [
        "%%bash\n",
        "mkdir treetagger\n",
        "cd treetagger\n",
        "# Download the tagger package for your system (PC-Linux, Mac OS-X, ARM64, ARMHF, ARM-Android, PPC64le-Linux).\n",
        "wget https://cis.lmu.de/~schmid/tools/TreeTagger/data/tree-tagger-linux-3.2.4.tar.gz\n",
        "tar -xzvf tree-tagger-linux-3.2.4.tar.gz\n",
        "# Download the tagging scripts into the same directory.\n",
        "wget https://cis.lmu.de/~schmid/tools/TreeTagger/data/tagger-scripts.tar.gz\n",
        "gunzip tagger-scripts.tar.gz\n",
        "# Download the installation script install-tagger.sh.\n",
        "wget https://cis.lmu.de/~schmid/tools/TreeTagger/data/install-tagger.sh\n",
        "# Download the parameter files for the languages you want to process.\n",
        "# list of all files (parameter files) https://cis.lmu.de/~schmid/tools/TreeTagger/#parfiles\n",
        "wget https://cis.lmu.de/~schmid/tools/TreeTagger/data/italian.par.gz\n",
        "sh install-tagger.sh\n",
        "cd ..\n",
        "sudo pip install treetaggerwrapper"
      ]
    },
    {
      "cell_type": "code",
      "execution_count": null,
      "metadata": {
        "colab": {
          "base_uri": "https://localhost:8080/"
        },
        "id": "r4csEHP16mOJ",
        "outputId": "d2455251-bcd4-4cc7-9943-62febb0bd077"
      },
      "outputs": [
        {
          "name": "stderr",
          "output_type": "stream",
          "text": [
            "/usr/local/lib/python3.9/dist-packages/treetaggerwrapper.py:739: FutureWarning: Possible nested set at position 8\n",
            "  punct2find_re = re.compile(\"([^ ])([[\" + ALONEMARKS + \"])\",\n",
            "/usr/local/lib/python3.9/dist-packages/treetaggerwrapper.py:2043: FutureWarning: Possible nested set at position 152\n",
            "  DnsHostMatch_re = re.compile(\"(\" + DnsHost_expression + \")\",\n",
            "/usr/local/lib/python3.9/dist-packages/treetaggerwrapper.py:2067: FutureWarning: Possible nested set at position 409\n",
            "  UrlMatch_re = re.compile(UrlMatch_expression, re.VERBOSE | re.IGNORECASE)\n",
            "/usr/local/lib/python3.9/dist-packages/treetaggerwrapper.py:2079: FutureWarning: Possible nested set at position 192\n",
            "  EmailMatch_re = re.compile(EmailMatch_expression, re.VERBOSE | re.IGNORECASE)\n"
          ]
        }
      ],
      "source": [
        "import treetaggerwrapper"
      ]
    },
    {
      "cell_type": "markdown",
      "metadata": {
        "id": "2stmuUbDH2hf"
      },
      "source": [
        "#VARIABILI"
      ]
    },
    {
      "cell_type": "markdown",
      "metadata": {
        "id": "Z8gUeJMGH7dU"
      },
      "source": [
        "##GIORNO"
      ]
    },
    {
      "cell_type": "code",
      "execution_count": null,
      "metadata": {
        "id": "Mt0Hy1PbHGcu"
      },
      "outputs": [],
      "source": [
        "OGGI = date.today()\n",
        "IERI = OGGI - timedelta(days=1)\n",
        "OGGI = OGGI.strftime('%Y-%m-%d')\n",
        "IERI = IERI.strftime('%Y-%m-%d')"
      ]
    },
    {
      "cell_type": "markdown",
      "metadata": {
        "id": "_xu3QJEKIAEt"
      },
      "source": [
        "## PROFILO"
      ]
    },
    {
      "cell_type": "code",
      "execution_count": null,
      "metadata": {
        "id": "B5baJL4THzIw"
      },
      "outputs": [],
      "source": [
        "ID_PROFILI = [395218906, 18935802, 420351046, 29416653, 133790890, 14060262, \n",
        "              5893702]"
      ]
    },
    {
      "cell_type": "markdown",
      "metadata": {
        "id": "ESInsRQMIegZ"
      },
      "source": [
        "# TWEETS RETRIVAL"
      ]
    },
    {
      "cell_type": "code",
      "execution_count": null,
      "metadata": {
        "id": "SFY96P1JI8fL"
      },
      "outputs": [],
      "source": [
        "bearer_token = \"AAAAAAAAAAAAAAAAAAAAAB4SbQEAAAAAq2Oa7eu7zbrg2E4B3xLIURWwDBk%3DXxO5cyKNFlrd9LSxYoP1weQmGep38pJoIyH9AG4Pzom0BKqZWX\"\n",
        "client = tweepy.Client(bearer_token)"
      ]
    },
    {
      "cell_type": "code",
      "execution_count": null,
      "metadata": {
        "id": "M7ImPwW5JiFg"
      },
      "outputs": [],
      "source": [
        "def getTweetsAccount(accountId, startPeriod, endPeriod):\n",
        "  response = client.get_users_tweets(accountId, start_time=startPeriod, \n",
        "                                     end_time=endPeriod, max_results=100)\n",
        "  tweets = []\n",
        "  try:\n",
        "    for tweet in response.data:\n",
        "      if ('RT @' not in tweet.text):\n",
        "        tweets.append(tweet.text)\n",
        "  except:\n",
        "    print(\"No Tweets\")\n",
        "  return tweets"
      ]
    },
    {
      "cell_type": "code",
      "execution_count": null,
      "metadata": {
        "id": "LPMM3MRLM73M"
      },
      "outputs": [],
      "source": [
        "def getAllTweetsAccount(accountId, yesterday, today):\n",
        "  startTime = [IERI+\"T06:00:00Z\",IERI+\"T12:00:00Z\",IERI+\"T18:00:00Z\", \n",
        "            OGGI+\"T00:00:00Z\"]\n",
        "  endTime = [IERI+\"T12:00:00Z\",IERI+\"T18:00:00Z\",IERI+\"T23:59:59Z\", \n",
        "          OGGI+\"T06:00:00Z\"]\n",
        "  tweets = []\n",
        "  for i in range(len(startTime)):\n",
        "    tweets.extend(getTweetsAccount(accountId, startTime[i], endTime[i]))\n",
        "  return tweets\n"
      ]
    },
    {
      "cell_type": "code",
      "execution_count": null,
      "metadata": {
        "id": "xGqeJVqoMWqj"
      },
      "outputs": [],
      "source": [
        "def getAllTweets(accountIds, yesterday, today):\n",
        "  tweets = []\n",
        "  for accountId in accountIds:\n",
        "    tweets.extend(getAllTweetsAccount(accountId, yesterday, today))\n",
        "  return tweets"
      ]
    },
    {
      "cell_type": "code",
      "execution_count": null,
      "metadata": {
        "id": "9O_rpQ_rPC_X"
      },
      "outputs": [],
      "source": [
        "TWEETS = getAllTweets(ID_PROFILI, IERI, OGGI)"
      ]
    },
    {
      "cell_type": "markdown",
      "metadata": {
        "id": "btSLrpvtPXsv"
      },
      "source": [
        "#TWEETS CLEANING"
      ]
    },
    {
      "cell_type": "code",
      "execution_count": null,
      "metadata": {
        "id": "DrJ9nNbBsbMi"
      },
      "outputs": [],
      "source": [
        "tweets_df = pd.DataFrame (TWEETS, columns = ['text'])"
      ]
    },
    {
      "cell_type": "markdown",
      "metadata": {
        "id": "59pGuywfuWEO"
      },
      "source": [
        "###DROP DUPLICATES"
      ]
    },
    {
      "cell_type": "code",
      "execution_count": null,
      "metadata": {
        "id": "1APyTHZttBuo"
      },
      "outputs": [],
      "source": [
        "tweets_df = tweets_df.drop_duplicates('text',keep='first')"
      ]
    },
    {
      "cell_type": "markdown",
      "metadata": {
        "id": "2aXQPOCSuaCQ"
      },
      "source": [
        "### CLEANING HTML"
      ]
    },
    {
      "cell_type": "code",
      "execution_count": null,
      "metadata": {
        "id": "mxVr3jYRuVNY"
      },
      "outputs": [],
      "source": [
        "def toLower(phrase):\n",
        "  phrase = phrase.lower()\n",
        "  return phrase"
      ]
    },
    {
      "cell_type": "code",
      "execution_count": null,
      "metadata": {
        "id": "SXLyUGllvtSf"
      },
      "outputs": [],
      "source": [
        "def removeEmoji(phrase):\n",
        "    emoji_pattern = re.compile(\"[\"\n",
        "                               u\"\\U0001F600-\\U0001F64F\"  # emoticons\n",
        "                               u\"\\U0001F300-\\U0001F5FF\"  # symbols & pictographs\n",
        "                               u\"\\U0001F680-\\U0001F6FF\"  # transport & map symbols\n",
        "                               u\"\\U0001F1E0-\\U0001F1FF\"  # flags (iOS)\n",
        "                               u\"\\U00002500-\\U00002BEF\"  # chinese char\n",
        "                               u\"\\U00002702-\\U000027B0\"\n",
        "                               u\"\\U00002702-\\U000027B0\"\n",
        "                               u\"\\U000024C2-\\U0001F251\"\n",
        "                               u\"\\U0001f926-\\U0001f937\"\n",
        "                               u\"\\U00010000-\\U0010ffff\"\n",
        "                               u\"\\u2640-\\u2642\"\n",
        "                               u\"\\u2600-\\u2B55\"\n",
        "                               u\"\\u200d\"\n",
        "                               u\"\\u23cf\"\n",
        "                               u\"\\u23e9\"\n",
        "                               u\"\\u231a\"\n",
        "                               u\"\\ufe0f\"  \n",
        "                               u\"\\u3030\"\n",
        "                               \"]+\", flags=re.UNICODE)\n",
        "    return emoji_pattern.sub(r'', phrase)"
      ]
    },
    {
      "cell_type": "code",
      "execution_count": null,
      "metadata": {
        "id": "rULPOZXfwEAN"
      },
      "outputs": [],
      "source": [
        "def removeUrls(sentence):\n",
        "    http_pattern = re.compile(r\"http\\S+\") \n",
        "    cleaned_sentence = re.sub(http_pattern,'',sentence).strip()\n",
        "    www_pattern = re.compile(r\"www\\S+\") \n",
        "    cleaned_sentence = re.sub(www_pattern,'',cleaned_sentence)\n",
        "    return cleaned_sentence"
      ]
    },
    {
      "cell_type": "code",
      "execution_count": null,
      "metadata": {
        "id": "qGC3JNQiwcaG"
      },
      "outputs": [],
      "source": [
        "def removeSpecialCharactersPunctuations(sentence):\n",
        "    pattern = re.compile(\"[^a-zA-Z]+\") \n",
        "    cleaned_text  = re.sub(pattern,' ',sentence).strip()\n",
        "    return cleaned_text"
      ]
    },
    {
      "cell_type": "code",
      "execution_count": null,
      "metadata": {
        "id": "WZ3Py8Zhwxwg"
      },
      "outputs": [],
      "source": [
        "def summaryCleaningFunction(text):\n",
        "  text = toLower(text)\n",
        "  text = removeEmoji(text)\n",
        "  text = removeUrls(text)\n",
        "  text = removeSpecialCharactersPunctuations(text)\n",
        "  text = text.lower()\n",
        "  return text"
      ]
    },
    {
      "cell_type": "code",
      "execution_count": null,
      "metadata": {
        "id": "r-s7WBmWw23P"
      },
      "outputs": [],
      "source": [
        "tweets_df['text']= tweets_df['text'].apply(summaryCleaningFunction)"
      ]
    },
    {
      "cell_type": "code",
      "execution_count": null,
      "metadata": {
        "colab": {
          "base_uri": "https://localhost:8080/"
        },
        "id": "M_D2W5ODxW-c",
        "outputId": "c22a2bad-c1bb-4385-af6a-21a0bf291016"
      },
      "outputs": [
        {
          "data": {
            "text/html": [
              "\n",
              "  <div id=\"df-d7e30d86-9679-4813-9a99-14c46510801e\">\n",
              "    <div class=\"colab-df-container\">\n",
              "      <div>\n",
              "<style scoped>\n",
              "    .dataframe tbody tr th:only-of-type {\n",
              "        vertical-align: middle;\n",
              "    }\n",
              "\n",
              "    .dataframe tbody tr th {\n",
              "        vertical-align: top;\n",
              "    }\n",
              "\n",
              "    .dataframe thead th {\n",
              "        text-align: right;\n",
              "    }\n",
              "</style>\n",
              "<table border=\"1\" class=\"dataframe\">\n",
              "  <thead>\n",
              "    <tr style=\"text-align: right;\">\n",
              "      <th></th>\n",
              "      <th>text</th>\n",
              "    </tr>\n",
              "  </thead>\n",
              "  <tbody>\n",
              "    <tr>\n",
              "      <th>0</th>\n",
              "      <td>morto l attore christo jivkov era giovanni nel...</td>\n",
              "    </tr>\n",
              "    <tr>\n",
              "      <th>1</th>\n",
              "      <td>andrew rotich kwemoi vince la maratona di mila...</td>\n",
              "    </tr>\n",
              "    <tr>\n",
              "      <th>2</th>\n",
              "      <td>il pap di mahsa amini e di un giovane condanna...</td>\n",
              "    </tr>\n",
              "    <tr>\n",
              "      <th>3</th>\n",
              "      <td>terremoto napoli due scosse sul vesuvio in mez...</td>\n",
              "    </tr>\n",
              "    <tr>\n",
              "      <th>4</th>\n",
              "      <td>il papa celebra la domenica delle palme dopo i...</td>\n",
              "    </tr>\n",
              "    <tr>\n",
              "      <th>...</th>\n",
              "      <td>...</td>\n",
              "    </tr>\n",
              "    <tr>\n",
              "      <th>463</th>\n",
              "      <td>lavoro il tasso di occupazione cresce ma l ita...</td>\n",
              "    </tr>\n",
              "    <tr>\n",
              "      <th>464</th>\n",
              "      <td>pnrr tra il rischio di ritardi e le scadenze d...</td>\n",
              "    </tr>\n",
              "    <tr>\n",
              "      <th>465</th>\n",
              "      <td>ucraina la ricostruzione parte dagli aiuti di ...</td>\n",
              "    </tr>\n",
              "    <tr>\n",
              "      <th>466</th>\n",
              "      <td>guerra ucraina russia news wagner bakhmut nost...</td>\n",
              "    </tr>\n",
              "    <tr>\n",
              "      <th>467</th>\n",
              "      <td>russia terremoto del nella penisola di kamchatka</td>\n",
              "    </tr>\n",
              "  </tbody>\n",
              "</table>\n",
              "<p>468 rows × 1 columns</p>\n",
              "</div>\n",
              "      <button class=\"colab-df-convert\" onclick=\"convertToInteractive('df-d7e30d86-9679-4813-9a99-14c46510801e')\"\n",
              "              title=\"Convert this dataframe to an interactive table.\"\n",
              "              style=\"display:none;\">\n",
              "        \n",
              "  <svg xmlns=\"http://www.w3.org/2000/svg\" height=\"24px\"viewBox=\"0 0 24 24\"\n",
              "       width=\"24px\">\n",
              "    <path d=\"M0 0h24v24H0V0z\" fill=\"none\"/>\n",
              "    <path d=\"M18.56 5.44l.94 2.06.94-2.06 2.06-.94-2.06-.94-.94-2.06-.94 2.06-2.06.94zm-11 1L8.5 8.5l.94-2.06 2.06-.94-2.06-.94L8.5 2.5l-.94 2.06-2.06.94zm10 10l.94 2.06.94-2.06 2.06-.94-2.06-.94-.94-2.06-.94 2.06-2.06.94z\"/><path d=\"M17.41 7.96l-1.37-1.37c-.4-.4-.92-.59-1.43-.59-.52 0-1.04.2-1.43.59L10.3 9.45l-7.72 7.72c-.78.78-.78 2.05 0 2.83L4 21.41c.39.39.9.59 1.41.59.51 0 1.02-.2 1.41-.59l7.78-7.78 2.81-2.81c.8-.78.8-2.07 0-2.86zM5.41 20L4 18.59l7.72-7.72 1.47 1.35L5.41 20z\"/>\n",
              "  </svg>\n",
              "      </button>\n",
              "      \n",
              "  <style>\n",
              "    .colab-df-container {\n",
              "      display:flex;\n",
              "      flex-wrap:wrap;\n",
              "      gap: 12px;\n",
              "    }\n",
              "\n",
              "    .colab-df-convert {\n",
              "      background-color: #E8F0FE;\n",
              "      border: none;\n",
              "      border-radius: 50%;\n",
              "      cursor: pointer;\n",
              "      display: none;\n",
              "      fill: #1967D2;\n",
              "      height: 32px;\n",
              "      padding: 0 0 0 0;\n",
              "      width: 32px;\n",
              "    }\n",
              "\n",
              "    .colab-df-convert:hover {\n",
              "      background-color: #E2EBFA;\n",
              "      box-shadow: 0px 1px 2px rgba(60, 64, 67, 0.3), 0px 1px 3px 1px rgba(60, 64, 67, 0.15);\n",
              "      fill: #174EA6;\n",
              "    }\n",
              "\n",
              "    [theme=dark] .colab-df-convert {\n",
              "      background-color: #3B4455;\n",
              "      fill: #D2E3FC;\n",
              "    }\n",
              "\n",
              "    [theme=dark] .colab-df-convert:hover {\n",
              "      background-color: #434B5C;\n",
              "      box-shadow: 0px 1px 3px 1px rgba(0, 0, 0, 0.15);\n",
              "      filter: drop-shadow(0px 1px 2px rgba(0, 0, 0, 0.3));\n",
              "      fill: #FFFFFF;\n",
              "    }\n",
              "  </style>\n",
              "\n",
              "      <script>\n",
              "        const buttonEl =\n",
              "          document.querySelector('#df-d7e30d86-9679-4813-9a99-14c46510801e button.colab-df-convert');\n",
              "        buttonEl.style.display =\n",
              "          google.colab.kernel.accessAllowed ? 'block' : 'none';\n",
              "\n",
              "        async function convertToInteractive(key) {\n",
              "          const element = document.querySelector('#df-d7e30d86-9679-4813-9a99-14c46510801e');\n",
              "          const dataTable =\n",
              "            await google.colab.kernel.invokeFunction('convertToInteractive',\n",
              "                                                     [key], {});\n",
              "          if (!dataTable) return;\n",
              "\n",
              "          const docLinkHtml = 'Like what you see? Visit the ' +\n",
              "            '<a target=\"_blank\" href=https://colab.research.google.com/notebooks/data_table.ipynb>data table notebook</a>'\n",
              "            + ' to learn more about interactive tables.';\n",
              "          element.innerHTML = '';\n",
              "          dataTable['output_type'] = 'display_data';\n",
              "          await google.colab.output.renderOutput(dataTable, element);\n",
              "          const docLink = document.createElement('div');\n",
              "          docLink.innerHTML = docLinkHtml;\n",
              "          element.appendChild(docLink);\n",
              "        }\n",
              "      </script>\n",
              "    </div>\n",
              "  </div>\n",
              "  "
            ],
            "text/plain": [
              "                                                  text\n",
              "0    morto l attore christo jivkov era giovanni nel...\n",
              "1    andrew rotich kwemoi vince la maratona di mila...\n",
              "2    il pap di mahsa amini e di un giovane condanna...\n",
              "3    terremoto napoli due scosse sul vesuvio in mez...\n",
              "4    il papa celebra la domenica delle palme dopo i...\n",
              "..                                                 ...\n",
              "463  lavoro il tasso di occupazione cresce ma l ita...\n",
              "464  pnrr tra il rischio di ritardi e le scadenze d...\n",
              "465  ucraina la ricostruzione parte dagli aiuti di ...\n",
              "466  guerra ucraina russia news wagner bakhmut nost...\n",
              "467   russia terremoto del nella penisola di kamchatka\n",
              "\n",
              "[468 rows x 1 columns]"
            ]
          },
          "execution_count": 19,
          "metadata": {},
          "output_type": "execute_result"
        }
      ],
      "source": [
        "tweets_df"
      ]
    },
    {
      "cell_type": "markdown",
      "metadata": {
        "id": "1Kr5YEkg7kLR"
      },
      "source": [
        "#TOKENIZATION"
      ]
    },
    {
      "cell_type": "code",
      "execution_count": null,
      "metadata": {
        "colab": {
          "base_uri": "https://localhost:8080/"
        },
        "id": "vmDJm6yO8Afd",
        "outputId": "645f91e5-f1ff-4141-9344-05f74c8b1792"
      },
      "outputs": [
        {
          "name": "stderr",
          "output_type": "stream",
          "text": [
            "[nltk_data] Downloading package punkt to /root/nltk_data...\n",
            "[nltk_data]   Unzipping tokenizers/punkt.zip.\n"
          ]
        },
        {
          "data": {
            "text/plain": [
              "True"
            ]
          },
          "execution_count": 20,
          "metadata": {},
          "output_type": "execute_result"
        }
      ],
      "source": [
        "import nltk\n",
        "nltk.download('punkt')"
      ]
    },
    {
      "cell_type": "code",
      "execution_count": null,
      "metadata": {
        "id": "OVZc361P7mht"
      },
      "outputs": [],
      "source": [
        "tweets_df['text'] = tweets_df['text'].apply(word_tokenize)"
      ]
    },
    {
      "cell_type": "markdown",
      "metadata": {
        "id": "d6XAGVMA1T7a"
      },
      "source": [
        "#LEMMATIZATION"
      ]
    },
    {
      "cell_type": "code",
      "execution_count": null,
      "metadata": {
        "colab": {
          "base_uri": "https://localhost:8080/"
        },
        "id": "vgrkL1IS1R1Q",
        "outputId": "ca982d87-4440-4bef-ac7a-6d7b1befc173"
      },
      "outputs": [
        {
          "name": "stderr",
          "output_type": "stream",
          "text": [
            "WARNING:TreeTagger:Abbreviation file not found: italian-abbreviations-utf8\n",
            "WARNING:TreeTagger:Processing without abbreviations file.\n"
          ]
        }
      ],
      "source": [
        "tagger = treetaggerwrapper.TreeTagger(TAGLANG='it', TAGDIR='treetagger/')\n",
        "\n",
        "def lemmaSentence(token_words):\n",
        "    lemma_text=[]\n",
        "    for word in token_words:\n",
        "      args = treetaggerwrapper.make_tags(tagger.tag_text(word),\n",
        "                                   allow_extra = True)[0]\n",
        "      lemmeOption2=args[2].split(\"|\")\n",
        "      args=lemmeOption2[0]\n",
        "      lemma_text.append(args)\n",
        "    return lemma_text\n",
        "  \n",
        "tweets_df['text'] = tweets_df['text'].apply(lemmaSentence)"
      ]
    },
    {
      "cell_type": "markdown",
      "metadata": {
        "id": "1BVpBm468kpF"
      },
      "source": [
        "#STOP WORDS REMOVAL"
      ]
    },
    {
      "cell_type": "code",
      "execution_count": null,
      "metadata": {
        "colab": {
          "base_uri": "https://localhost:8080/"
        },
        "id": "hkSrERGM92LA",
        "outputId": "c9d2c64d-35b0-4ede-90d3-fdaed0b62502"
      },
      "outputs": [
        {
          "name": "stderr",
          "output_type": "stream",
          "text": [
            "[nltk_data] Downloading package stopwords to /root/nltk_data...\n",
            "[nltk_data]   Unzipping corpora/stopwords.zip.\n"
          ]
        },
        {
          "data": {
            "text/plain": [
              "True"
            ]
          },
          "execution_count": 23,
          "metadata": {},
          "output_type": "execute_result"
        }
      ],
      "source": [
        "nltk.download('stopwords')"
      ]
    },
    {
      "cell_type": "code",
      "execution_count": null,
      "metadata": {
        "id": "yLMQoBtm8od7"
      },
      "outputs": [],
      "source": [
        "def rimozione_stop_words(text, stopwords_list):\n",
        "  return ([word for word in text if word not in stopwords_list])"
      ]
    },
    {
      "cell_type": "code",
      "execution_count": null,
      "metadata": {
        "id": "5XKmzIp29LWE"
      },
      "outputs": [],
      "source": [
        "englishStopwords = stopwords.words('english')\n",
        "italianStopwords = stopwords.words('italian')\n",
        "\n",
        "tweets_df['text'] = tweets_df['text'].apply(lambda x: rimozione_stop_words(x, englishStopwords))\n",
        "tweets_df['text'] = tweets_df['text'].apply(lambda x: rimozione_stop_words(x, italianStopwords))"
      ]
    },
    {
      "cell_type": "markdown",
      "metadata": {
        "id": "hNymaqX5_Ug0"
      },
      "source": [
        "#BI-GRAM"
      ]
    },
    {
      "cell_type": "code",
      "execution_count": null,
      "metadata": {
        "id": "sbjKnoOY_YzP"
      },
      "outputs": [],
      "source": [
        "from nltk import word_tokenize \n",
        "from nltk.util import ngrams\n",
        "\n",
        "bigramList = []\n",
        "for token in tweets_df['text']:\n",
        "    bigram = list(ngrams(token, 2))\n",
        "    bigramList.append(bigram)"
      ]
    },
    {
      "cell_type": "markdown",
      "metadata": {
        "id": "NzsBotKuAUmY"
      },
      "source": [
        "#TF-IDF"
      ]
    },
    {
      "cell_type": "code",
      "execution_count": null,
      "metadata": {
        "id": "OE_Yv9ciARrE"
      },
      "outputs": [],
      "source": [
        "from sklearn.feature_extraction.text import TfidfVectorizer\n",
        "tv = TfidfVectorizer(use_idf=True, ngram_range=(1,2))\n",
        "tv_model = tv.fit(tweets_df['text'].astype(str))\n",
        "tweets_tfidf = tv.transform(tweets_df['text'].astype(str))\n",
        "feature_names = tv.get_feature_names_out()\n",
        "dense = tweets_tfidf.todense()\n",
        "lst1 = dense.tolist()\n",
        "df = pd.DataFrame(lst1, columns=feature_names)\n",
        "lista_parole = df.T.sum(axis=1)"
      ]
    },
    {
      "cell_type": "code",
      "execution_count": null,
      "metadata": {
        "colab": {
          "base_uri": "https://localhost:8080/",
          "height": 647
        },
        "id": "_NNzugfHBWGl",
        "outputId": "6b56d93d-b1c8-4b93-b38d-0df3e70a2883"
      },
      "outputs": [
        {
          "data": {
            "text/html": [
              "\n",
              "  <div id=\"df-29596abf-1691-4a9a-b280-9ccb4e042fd8\">\n",
              "    <div class=\"colab-df-container\">\n",
              "      <div>\n",
              "<style scoped>\n",
              "    .dataframe tbody tr th:only-of-type {\n",
              "        vertical-align: middle;\n",
              "    }\n",
              "\n",
              "    .dataframe tbody tr th {\n",
              "        vertical-align: top;\n",
              "    }\n",
              "\n",
              "    .dataframe thead th {\n",
              "        text-align: right;\n",
              "    }\n",
              "</style>\n",
              "<table border=\"1\" class=\"dataframe\">\n",
              "  <thead>\n",
              "    <tr style=\"text-align: right;\">\n",
              "      <th></th>\n",
              "      <th>0</th>\n",
              "    </tr>\n",
              "  </thead>\n",
              "  <tbody>\n",
              "    <tr>\n",
              "      <th>avere</th>\n",
              "      <td>7.882899</td>\n",
              "    </tr>\n",
              "    <tr>\n",
              "      <th>essere</th>\n",
              "      <td>6.521633</td>\n",
              "    </tr>\n",
              "    <tr>\n",
              "      <th>morto</th>\n",
              "      <td>5.169684</td>\n",
              "    </tr>\n",
              "    <tr>\n",
              "      <th>primo</th>\n",
              "      <td>3.754612</td>\n",
              "    </tr>\n",
              "    <tr>\n",
              "      <th>vincere</th>\n",
              "      <td>3.585444</td>\n",
              "    </tr>\n",
              "    <tr>\n",
              "      <th>...</th>\n",
              "      <td>...</td>\n",
              "    </tr>\n",
              "    <tr>\n",
              "      <th>milano</th>\n",
              "      <td>1.774384</td>\n",
              "    </tr>\n",
              "    <tr>\n",
              "      <th>bezzecchi</th>\n",
              "      <td>1.774214</td>\n",
              "    </tr>\n",
              "    <tr>\n",
              "      <th>ferito</th>\n",
              "      <td>1.766402</td>\n",
              "    </tr>\n",
              "    <tr>\n",
              "      <th>pizzaut</th>\n",
              "      <td>1.745512</td>\n",
              "    </tr>\n",
              "    <tr>\n",
              "      <th>compositore</th>\n",
              "      <td>1.734888</td>\n",
              "    </tr>\n",
              "  </tbody>\n",
              "</table>\n",
              "<p>70 rows × 1 columns</p>\n",
              "</div>\n",
              "      <button class=\"colab-df-convert\" onclick=\"convertToInteractive('df-29596abf-1691-4a9a-b280-9ccb4e042fd8')\"\n",
              "              title=\"Convert this dataframe to an interactive table.\"\n",
              "              style=\"display:none;\">\n",
              "        \n",
              "  <svg xmlns=\"http://www.w3.org/2000/svg\" height=\"24px\"viewBox=\"0 0 24 24\"\n",
              "       width=\"24px\">\n",
              "    <path d=\"M0 0h24v24H0V0z\" fill=\"none\"/>\n",
              "    <path d=\"M18.56 5.44l.94 2.06.94-2.06 2.06-.94-2.06-.94-.94-2.06-.94 2.06-2.06.94zm-11 1L8.5 8.5l.94-2.06 2.06-.94-2.06-.94L8.5 2.5l-.94 2.06-2.06.94zm10 10l.94 2.06.94-2.06 2.06-.94-2.06-.94-.94-2.06-.94 2.06-2.06.94z\"/><path d=\"M17.41 7.96l-1.37-1.37c-.4-.4-.92-.59-1.43-.59-.52 0-1.04.2-1.43.59L10.3 9.45l-7.72 7.72c-.78.78-.78 2.05 0 2.83L4 21.41c.39.39.9.59 1.41.59.51 0 1.02-.2 1.41-.59l7.78-7.78 2.81-2.81c.8-.78.8-2.07 0-2.86zM5.41 20L4 18.59l7.72-7.72 1.47 1.35L5.41 20z\"/>\n",
              "  </svg>\n",
              "      </button>\n",
              "      \n",
              "  <style>\n",
              "    .colab-df-container {\n",
              "      display:flex;\n",
              "      flex-wrap:wrap;\n",
              "      gap: 12px;\n",
              "    }\n",
              "\n",
              "    .colab-df-convert {\n",
              "      background-color: #E8F0FE;\n",
              "      border: none;\n",
              "      border-radius: 50%;\n",
              "      cursor: pointer;\n",
              "      display: none;\n",
              "      fill: #1967D2;\n",
              "      height: 32px;\n",
              "      padding: 0 0 0 0;\n",
              "      width: 32px;\n",
              "    }\n",
              "\n",
              "    .colab-df-convert:hover {\n",
              "      background-color: #E2EBFA;\n",
              "      box-shadow: 0px 1px 2px rgba(60, 64, 67, 0.3), 0px 1px 3px 1px rgba(60, 64, 67, 0.15);\n",
              "      fill: #174EA6;\n",
              "    }\n",
              "\n",
              "    [theme=dark] .colab-df-convert {\n",
              "      background-color: #3B4455;\n",
              "      fill: #D2E3FC;\n",
              "    }\n",
              "\n",
              "    [theme=dark] .colab-df-convert:hover {\n",
              "      background-color: #434B5C;\n",
              "      box-shadow: 0px 1px 3px 1px rgba(0, 0, 0, 0.15);\n",
              "      filter: drop-shadow(0px 1px 2px rgba(0, 0, 0, 0.3));\n",
              "      fill: #FFFFFF;\n",
              "    }\n",
              "  </style>\n",
              "\n",
              "      <script>\n",
              "        const buttonEl =\n",
              "          document.querySelector('#df-29596abf-1691-4a9a-b280-9ccb4e042fd8 button.colab-df-convert');\n",
              "        buttonEl.style.display =\n",
              "          google.colab.kernel.accessAllowed ? 'block' : 'none';\n",
              "\n",
              "        async function convertToInteractive(key) {\n",
              "          const element = document.querySelector('#df-29596abf-1691-4a9a-b280-9ccb4e042fd8');\n",
              "          const dataTable =\n",
              "            await google.colab.kernel.invokeFunction('convertToInteractive',\n",
              "                                                     [key], {});\n",
              "          if (!dataTable) return;\n",
              "\n",
              "          const docLinkHtml = 'Like what you see? Visit the ' +\n",
              "            '<a target=\"_blank\" href=https://colab.research.google.com/notebooks/data_table.ipynb>data table notebook</a>'\n",
              "            + ' to learn more about interactive tables.';\n",
              "          element.innerHTML = '';\n",
              "          dataTable['output_type'] = 'display_data';\n",
              "          await google.colab.output.renderOutput(dataTable, element);\n",
              "          const docLink = document.createElement('div');\n",
              "          docLink.innerHTML = docLinkHtml;\n",
              "          element.appendChild(docLink);\n",
              "        }\n",
              "      </script>\n",
              "    </div>\n",
              "  </div>\n",
              "  "
            ],
            "text/plain": [
              "                    0\n",
              "avere        7.882899\n",
              "essere       6.521633\n",
              "morto        5.169684\n",
              "primo        3.754612\n",
              "vincere      3.585444\n",
              "...               ...\n",
              "milano       1.774384\n",
              "bezzecchi    1.774214\n",
              "ferito       1.766402\n",
              "pizzaut      1.745512\n",
              "compositore  1.734888\n",
              "\n",
              "[70 rows x 1 columns]"
            ]
          },
          "execution_count": 37,
          "metadata": {},
          "output_type": "execute_result"
        }
      ],
      "source": [
        "pd.DataFrame(lista_parole.sort_values(ascending=False)[:70])"
      ]
    },
    {
      "cell_type": "markdown",
      "metadata": {
        "id": "q__Z30nbPiHt"
      },
      "source": [
        "#NER"
      ]
    },
    {
      "cell_type": "code",
      "execution_count": null,
      "metadata": {
        "colab": {
          "base_uri": "https://localhost:8080/"
        },
        "id": "u2ygZXvlPlxV",
        "outputId": "f796a32f-14f8-4b6c-b77c-3bb2b32007e6"
      },
      "outputs": [
        {
          "name": "stdout",
          "output_type": "stream",
          "text": [
            "Looking in indexes: https://pypi.org/simple, https://us-python.pkg.dev/colab-wheels/public/simple/\n",
            "Collecting it-nerIta-trf==any\n",
            "  Downloading https://huggingface.co/bullmount/it_nerIta_trf/resolve/main/it_nerIta_trf-any-py3-none-any.whl (818.2 MB)\n",
            "\u001b[2K     \u001b[90m━━━━━━━━━━━━━━━━━━━━━━━━━━━━━━━━━━━━━━━\u001b[0m \u001b[32m818.2/818.2 MB\u001b[0m \u001b[31m1.6 MB/s\u001b[0m eta \u001b[36m0:00:00\u001b[0m\n",
            "\u001b[?25hCollecting spacy<3.3.0,>=3.2.3\n",
            "  Downloading spacy-3.2.5-cp39-cp39-manylinux_2_17_x86_64.manylinux2014_x86_64.whl (6.1 MB)\n",
            "\u001b[2K     \u001b[90m━━━━━━━━━━━━━━━━━━━━━━━━━━━━━━━━━━━━━━━━\u001b[0m \u001b[32m6.1/6.1 MB\u001b[0m \u001b[31m50.4 MB/s\u001b[0m eta \u001b[36m0:00:00\u001b[0m\n",
            "\u001b[?25hCollecting spacy-transformers<1.2.0,>=1.1.5\n",
            "  Downloading spacy_transformers-1.1.9-py2.py3-none-any.whl (53 kB)\n",
            "\u001b[2K     \u001b[90m━━━━━━━━━━━━━━━━━━━━━━━━━━━━━━━━━━━━━━━━\u001b[0m \u001b[32m53.5/53.5 KB\u001b[0m \u001b[31m5.2 MB/s\u001b[0m eta \u001b[36m0:00:00\u001b[0m\n",
            "\u001b[?25hRequirement already satisfied: catalogue<2.1.0,>=2.0.6 in /usr/local/lib/python3.9/dist-packages (from spacy<3.3.0,>=3.2.3->it-nerIta-trf==any) (2.0.8)\n",
            "Requirement already satisfied: smart-open<7.0.0,>=5.2.1 in /usr/local/lib/python3.9/dist-packages (from spacy<3.3.0,>=3.2.3->it-nerIta-trf==any) (6.3.0)\n",
            "Requirement already satisfied: spacy-legacy<3.1.0,>=3.0.8 in /usr/local/lib/python3.9/dist-packages (from spacy<3.3.0,>=3.2.3->it-nerIta-trf==any) (3.0.12)\n",
            "Collecting wasabi<1.1.0,>=0.8.1\n",
            "  Downloading wasabi-0.10.1-py3-none-any.whl (26 kB)\n",
            "Requirement already satisfied: langcodes<4.0.0,>=3.2.0 in /usr/local/lib/python3.9/dist-packages (from spacy<3.3.0,>=3.2.3->it-nerIta-trf==any) (3.3.0)\n",
            "Collecting thinc<8.1.0,>=8.0.12\n",
            "  Downloading thinc-8.0.17-cp39-cp39-manylinux_2_17_x86_64.manylinux2014_x86_64.whl (668 kB)\n",
            "\u001b[2K     \u001b[90m━━━━━━━━━━━━━━━━━━━━━━━━━━━━━━━━━━━━━━\u001b[0m \u001b[32m668.8/668.8 KB\u001b[0m \u001b[31m49.7 MB/s\u001b[0m eta \u001b[36m0:00:00\u001b[0m\n",
            "\u001b[?25hRequirement already satisfied: srsly<3.0.0,>=2.4.1 in /usr/local/lib/python3.9/dist-packages (from spacy<3.3.0,>=3.2.3->it-nerIta-trf==any) (2.4.6)\n",
            "Requirement already satisfied: tqdm<5.0.0,>=4.38.0 in /usr/local/lib/python3.9/dist-packages (from spacy<3.3.0,>=3.2.3->it-nerIta-trf==any) (4.65.0)\n",
            "Requirement already satisfied: pathy>=0.3.5 in /usr/local/lib/python3.9/dist-packages (from spacy<3.3.0,>=3.2.3->it-nerIta-trf==any) (0.10.1)\n",
            "Requirement already satisfied: spacy-loggers<2.0.0,>=1.0.0 in /usr/local/lib/python3.9/dist-packages (from spacy<3.3.0,>=3.2.3->it-nerIta-trf==any) (1.0.4)\n",
            "Requirement already satisfied: blis<0.8.0,>=0.4.0 in /usr/local/lib/python3.9/dist-packages (from spacy<3.3.0,>=3.2.3->it-nerIta-trf==any) (0.7.9)\n",
            "Requirement already satisfied: setuptools in /usr/local/lib/python3.9/dist-packages (from spacy<3.3.0,>=3.2.3->it-nerIta-trf==any) (67.6.1)\n",
            "Requirement already satisfied: requests<3.0.0,>=2.13.0 in /usr/local/lib/python3.9/dist-packages (from spacy<3.3.0,>=3.2.3->it-nerIta-trf==any) (2.27.1)\n",
            "Requirement already satisfied: preshed<3.1.0,>=3.0.2 in /usr/local/lib/python3.9/dist-packages (from spacy<3.3.0,>=3.2.3->it-nerIta-trf==any) (3.0.8)\n",
            "Requirement already satisfied: cymem<2.1.0,>=2.0.2 in /usr/local/lib/python3.9/dist-packages (from spacy<3.3.0,>=3.2.3->it-nerIta-trf==any) (2.0.7)\n",
            "Requirement already satisfied: jinja2 in /usr/local/lib/python3.9/dist-packages (from spacy<3.3.0,>=3.2.3->it-nerIta-trf==any) (3.1.2)\n",
            "Collecting pydantic!=1.8,!=1.8.1,<1.9.0,>=1.7.4\n",
            "  Downloading pydantic-1.8.2-cp39-cp39-manylinux2014_x86_64.whl (11.3 MB)\n",
            "\u001b[2K     \u001b[90m━━━━━━━━━━━━━━━━━━━━━━━━━━━━━━━━━━━━━━━━\u001b[0m \u001b[32m11.3/11.3 MB\u001b[0m \u001b[31m85.1 MB/s\u001b[0m eta \u001b[36m0:00:00\u001b[0m\n",
            "\u001b[?25hRequirement already satisfied: packaging>=20.0 in /usr/local/lib/python3.9/dist-packages (from spacy<3.3.0,>=3.2.3->it-nerIta-trf==any) (23.0)\n",
            "Requirement already satisfied: murmurhash<1.1.0,>=0.28.0 in /usr/local/lib/python3.9/dist-packages (from spacy<3.3.0,>=3.2.3->it-nerIta-trf==any) (1.0.9)\n",
            "Requirement already satisfied: numpy>=1.15.0 in /usr/local/lib/python3.9/dist-packages (from spacy<3.3.0,>=3.2.3->it-nerIta-trf==any) (1.22.4)\n",
            "Collecting typer<0.5.0,>=0.3.0\n",
            "  Downloading typer-0.4.2-py3-none-any.whl (27 kB)\n",
            "Requirement already satisfied: torch>=1.6.0 in /usr/local/lib/python3.9/dist-packages (from spacy-transformers<1.2.0,>=1.1.5->it-nerIta-trf==any) (1.13.1+cu116)\n",
            "Collecting spacy-transformers<1.2.0,>=1.1.5\n",
            "  Downloading spacy_transformers-1.1.8-py2.py3-none-any.whl (53 kB)\n",
            "\u001b[2K     \u001b[90m━━━━━━━━━━━━━━━━━━━━━━━━━━━━━━━━━━━━━━━━\u001b[0m \u001b[32m53.4/53.4 KB\u001b[0m \u001b[31m5.6 MB/s\u001b[0m eta \u001b[36m0:00:00\u001b[0m\n",
            "\u001b[?25hCollecting transformers<4.22.0,>=3.4.0\n",
            "  Downloading transformers-4.21.3-py3-none-any.whl (4.7 MB)\n",
            "\u001b[2K     \u001b[90m━━━━━━━━━━━━━━━━━━━━━━━━━━━━━━━━━━━━━━━━\u001b[0m \u001b[32m4.7/4.7 MB\u001b[0m \u001b[31m86.3 MB/s\u001b[0m eta \u001b[36m0:00:00\u001b[0m\n",
            "\u001b[?25hCollecting spacy-transformers<1.2.0,>=1.1.5\n",
            "  Downloading spacy_transformers-1.1.7-py2.py3-none-any.whl (53 kB)\n",
            "\u001b[2K     \u001b[90m━━━━━━━━━━━━━━━━━━━━━━━━━━━━━━━━━━━━━━━━\u001b[0m \u001b[32m53.5/53.5 KB\u001b[0m \u001b[31m5.6 MB/s\u001b[0m eta \u001b[36m0:00:00\u001b[0m\n",
            "\u001b[?25hCollecting spacy-alignments<1.0.0,>=0.7.2\n",
            "  Downloading spacy_alignments-0.9.0-cp39-cp39-manylinux_2_17_x86_64.manylinux2014_x86_64.whl (1.2 MB)\n",
            "\u001b[2K     \u001b[90m━━━━━━━━━━━━━━━━━━━━━━━━━━━━━━━━━━━━━━━━\u001b[0m \u001b[32m1.2/1.2 MB\u001b[0m \u001b[31m70.6 MB/s\u001b[0m eta \u001b[36m0:00:00\u001b[0m\n",
            "\u001b[?25hCollecting transformers<4.21.0,>=3.4.0\n",
            "  Downloading transformers-4.20.1-py3-none-any.whl (4.4 MB)\n",
            "\u001b[2K     \u001b[90m━━━━━━━━━━━━━━━━━━━━━━━━━━━━━━━━━━━━━━━━\u001b[0m \u001b[32m4.4/4.4 MB\u001b[0m \u001b[31m103.9 MB/s\u001b[0m eta \u001b[36m0:00:00\u001b[0m\n",
            "\u001b[?25hRequirement already satisfied: typing-extensions>=3.7.4.3 in /usr/local/lib/python3.9/dist-packages (from pydantic!=1.8,!=1.8.1,<1.9.0,>=1.7.4->spacy<3.3.0,>=3.2.3->it-nerIta-trf==any) (4.5.0)\n",
            "Requirement already satisfied: certifi>=2017.4.17 in /usr/local/lib/python3.9/dist-packages (from requests<3.0.0,>=2.13.0->spacy<3.3.0,>=3.2.3->it-nerIta-trf==any) (2022.12.7)\n",
            "Requirement already satisfied: charset-normalizer~=2.0.0 in /usr/local/lib/python3.9/dist-packages (from requests<3.0.0,>=2.13.0->spacy<3.3.0,>=3.2.3->it-nerIta-trf==any) (2.0.12)\n",
            "Requirement already satisfied: idna<4,>=2.5 in /usr/local/lib/python3.9/dist-packages (from requests<3.0.0,>=2.13.0->spacy<3.3.0,>=3.2.3->it-nerIta-trf==any) (3.4)\n",
            "Requirement already satisfied: urllib3<1.27,>=1.21.1 in /usr/local/lib/python3.9/dist-packages (from requests<3.0.0,>=2.13.0->spacy<3.3.0,>=3.2.3->it-nerIta-trf==any) (1.26.15)\n",
            "Collecting huggingface-hub<1.0,>=0.1.0\n",
            "  Downloading huggingface_hub-0.13.3-py3-none-any.whl (199 kB)\n",
            "\u001b[2K     \u001b[90m━━━━━━━━━━━━━━━━━━━━━━━━━━━━━━━━━━━━━━\u001b[0m \u001b[32m199.8/199.8 KB\u001b[0m \u001b[31m20.4 MB/s\u001b[0m eta \u001b[36m0:00:00\u001b[0m\n",
            "\u001b[?25hRequirement already satisfied: regex!=2019.12.17 in /usr/local/lib/python3.9/dist-packages (from transformers<4.21.0,>=3.4.0->spacy-transformers<1.2.0,>=1.1.5->it-nerIta-trf==any) (2022.10.31)\n",
            "Collecting tokenizers!=0.11.3,<0.13,>=0.11.1\n",
            "  Downloading tokenizers-0.12.1-cp39-cp39-manylinux_2_12_x86_64.manylinux2010_x86_64.whl (6.6 MB)\n",
            "\u001b[2K     \u001b[90m━━━━━━━━━━━━━━━━━━━━━━━━━━━━━━━━━━━━━━━━\u001b[0m \u001b[32m6.6/6.6 MB\u001b[0m \u001b[31m96.5 MB/s\u001b[0m eta \u001b[36m0:00:00\u001b[0m\n",
            "\u001b[?25hRequirement already satisfied: filelock in /usr/local/lib/python3.9/dist-packages (from transformers<4.21.0,>=3.4.0->spacy-transformers<1.2.0,>=1.1.5->it-nerIta-trf==any) (3.10.7)\n",
            "Requirement already satisfied: pyyaml>=5.1 in /usr/local/lib/python3.9/dist-packages (from transformers<4.21.0,>=3.4.0->spacy-transformers<1.2.0,>=1.1.5->it-nerIta-trf==any) (6.0)\n",
            "Requirement already satisfied: click<9.0.0,>=7.1.1 in /usr/local/lib/python3.9/dist-packages (from typer<0.5.0,>=0.3.0->spacy<3.3.0,>=3.2.3->it-nerIta-trf==any) (8.1.3)\n",
            "Requirement already satisfied: MarkupSafe>=2.0 in /usr/local/lib/python3.9/dist-packages (from jinja2->spacy<3.3.0,>=3.2.3->it-nerIta-trf==any) (2.1.2)\n",
            "Installing collected packages: wasabi, tokenizers, typer, spacy-alignments, pydantic, thinc, huggingface-hub, transformers, spacy, spacy-transformers, it-nerIta-trf\n",
            "  Attempting uninstall: wasabi\n",
            "    Found existing installation: wasabi 1.1.1\n",
            "    Uninstalling wasabi-1.1.1:\n",
            "      Successfully uninstalled wasabi-1.1.1\n",
            "  Attempting uninstall: typer\n",
            "    Found existing installation: typer 0.7.0\n",
            "    Uninstalling typer-0.7.0:\n",
            "      Successfully uninstalled typer-0.7.0\n",
            "  Attempting uninstall: pydantic\n",
            "    Found existing installation: pydantic 1.10.7\n",
            "    Uninstalling pydantic-1.10.7:\n",
            "      Successfully uninstalled pydantic-1.10.7\n",
            "  Attempting uninstall: thinc\n",
            "    Found existing installation: thinc 8.1.9\n",
            "    Uninstalling thinc-8.1.9:\n",
            "      Successfully uninstalled thinc-8.1.9\n",
            "  Attempting uninstall: spacy\n",
            "    Found existing installation: spacy 3.5.1\n",
            "    Uninstalling spacy-3.5.1:\n",
            "      Successfully uninstalled spacy-3.5.1\n",
            "\u001b[31mERROR: pip's dependency resolver does not currently take into account all the packages that are installed. This behaviour is the source of the following dependency conflicts.\n",
            "inflect 6.0.2 requires pydantic>=1.9.1, but you have pydantic 1.8.2 which is incompatible.\n",
            "en-core-web-sm 3.5.0 requires spacy<3.6.0,>=3.5.0, but you have spacy 3.2.5 which is incompatible.\u001b[0m\u001b[31m\n",
            "\u001b[0mSuccessfully installed huggingface-hub-0.13.3 it-nerIta-trf-0.0.0 pydantic-1.8.2 spacy-3.2.5 spacy-alignments-0.9.0 spacy-transformers-1.1.7 thinc-8.0.17 tokenizers-0.12.1 transformers-4.20.1 typer-0.4.2 wasabi-0.10.1\n",
            "Looking in indexes: https://pypi.org/simple, https://us-python.pkg.dev/colab-wheels/public/simple/\n",
            "Requirement already satisfied: spacy-transformers in /usr/local/lib/python3.9/dist-packages (1.1.7)\n",
            "Requirement already satisfied: spacy-alignments<1.0.0,>=0.7.2 in /usr/local/lib/python3.9/dist-packages (from spacy-transformers) (0.9.0)\n",
            "Requirement already satisfied: transformers<4.21.0,>=3.4.0 in /usr/local/lib/python3.9/dist-packages (from spacy-transformers) (4.20.1)\n",
            "Requirement already satisfied: srsly<3.0.0,>=2.4.0 in /usr/local/lib/python3.9/dist-packages (from spacy-transformers) (2.4.6)\n",
            "Requirement already satisfied: torch>=1.6.0 in /usr/local/lib/python3.9/dist-packages (from spacy-transformers) (1.13.1+cu116)\n",
            "Requirement already satisfied: spacy<4.0.0,>=3.1.3 in /usr/local/lib/python3.9/dist-packages (from spacy-transformers) (3.2.5)\n",
            "Requirement already satisfied: jinja2 in /usr/local/lib/python3.9/dist-packages (from spacy<4.0.0,>=3.1.3->spacy-transformers) (3.1.2)\n",
            "Requirement already satisfied: numpy>=1.15.0 in /usr/local/lib/python3.9/dist-packages (from spacy<4.0.0,>=3.1.3->spacy-transformers) (1.22.4)\n",
            "Requirement already satisfied: catalogue<2.1.0,>=2.0.6 in /usr/local/lib/python3.9/dist-packages (from spacy<4.0.0,>=3.1.3->spacy-transformers) (2.0.8)\n",
            "Requirement already satisfied: murmurhash<1.1.0,>=0.28.0 in /usr/local/lib/python3.9/dist-packages (from spacy<4.0.0,>=3.1.3->spacy-transformers) (1.0.9)\n",
            "Requirement already satisfied: blis<0.8.0,>=0.4.0 in /usr/local/lib/python3.9/dist-packages (from spacy<4.0.0,>=3.1.3->spacy-transformers) (0.7.9)\n",
            "Requirement already satisfied: smart-open<7.0.0,>=5.2.1 in /usr/local/lib/python3.9/dist-packages (from spacy<4.0.0,>=3.1.3->spacy-transformers) (6.3.0)\n",
            "Requirement already satisfied: spacy-loggers<2.0.0,>=1.0.0 in /usr/local/lib/python3.9/dist-packages (from spacy<4.0.0,>=3.1.3->spacy-transformers) (1.0.4)\n",
            "Requirement already satisfied: preshed<3.1.0,>=3.0.2 in /usr/local/lib/python3.9/dist-packages (from spacy<4.0.0,>=3.1.3->spacy-transformers) (3.0.8)\n",
            "Requirement already satisfied: setuptools in /usr/local/lib/python3.9/dist-packages (from spacy<4.0.0,>=3.1.3->spacy-transformers) (67.6.1)\n",
            "Requirement already satisfied: tqdm<5.0.0,>=4.38.0 in /usr/local/lib/python3.9/dist-packages (from spacy<4.0.0,>=3.1.3->spacy-transformers) (4.65.0)\n",
            "Requirement already satisfied: wasabi<1.1.0,>=0.8.1 in /usr/local/lib/python3.9/dist-packages (from spacy<4.0.0,>=3.1.3->spacy-transformers) (0.10.1)\n",
            "Requirement already satisfied: langcodes<4.0.0,>=3.2.0 in /usr/local/lib/python3.9/dist-packages (from spacy<4.0.0,>=3.1.3->spacy-transformers) (3.3.0)\n",
            "Requirement already satisfied: spacy-legacy<3.1.0,>=3.0.8 in /usr/local/lib/python3.9/dist-packages (from spacy<4.0.0,>=3.1.3->spacy-transformers) (3.0.12)\n",
            "Requirement already satisfied: pathy>=0.3.5 in /usr/local/lib/python3.9/dist-packages (from spacy<4.0.0,>=3.1.3->spacy-transformers) (0.10.1)\n",
            "Requirement already satisfied: packaging>=20.0 in /usr/local/lib/python3.9/dist-packages (from spacy<4.0.0,>=3.1.3->spacy-transformers) (23.0)\n",
            "Requirement already satisfied: requests<3.0.0,>=2.13.0 in /usr/local/lib/python3.9/dist-packages (from spacy<4.0.0,>=3.1.3->spacy-transformers) (2.27.1)\n",
            "Requirement already satisfied: thinc<8.1.0,>=8.0.12 in /usr/local/lib/python3.9/dist-packages (from spacy<4.0.0,>=3.1.3->spacy-transformers) (8.0.17)\n",
            "Requirement already satisfied: typer<0.5.0,>=0.3.0 in /usr/local/lib/python3.9/dist-packages (from spacy<4.0.0,>=3.1.3->spacy-transformers) (0.4.2)\n",
            "Requirement already satisfied: pydantic!=1.8,!=1.8.1,<1.9.0,>=1.7.4 in /usr/local/lib/python3.9/dist-packages (from spacy<4.0.0,>=3.1.3->spacy-transformers) (1.8.2)\n",
            "Requirement already satisfied: cymem<2.1.0,>=2.0.2 in /usr/local/lib/python3.9/dist-packages (from spacy<4.0.0,>=3.1.3->spacy-transformers) (2.0.7)\n",
            "Requirement already satisfied: typing-extensions in /usr/local/lib/python3.9/dist-packages (from torch>=1.6.0->spacy-transformers) (4.5.0)\n",
            "Requirement already satisfied: regex!=2019.12.17 in /usr/local/lib/python3.9/dist-packages (from transformers<4.21.0,>=3.4.0->spacy-transformers) (2022.10.31)\n",
            "Requirement already satisfied: pyyaml>=5.1 in /usr/local/lib/python3.9/dist-packages (from transformers<4.21.0,>=3.4.0->spacy-transformers) (6.0)\n",
            "Requirement already satisfied: huggingface-hub<1.0,>=0.1.0 in /usr/local/lib/python3.9/dist-packages (from transformers<4.21.0,>=3.4.0->spacy-transformers) (0.13.3)\n",
            "Requirement already satisfied: filelock in /usr/local/lib/python3.9/dist-packages (from transformers<4.21.0,>=3.4.0->spacy-transformers) (3.10.7)\n",
            "Requirement already satisfied: tokenizers!=0.11.3,<0.13,>=0.11.1 in /usr/local/lib/python3.9/dist-packages (from transformers<4.21.0,>=3.4.0->spacy-transformers) (0.12.1)\n",
            "Requirement already satisfied: charset-normalizer~=2.0.0 in /usr/local/lib/python3.9/dist-packages (from requests<3.0.0,>=2.13.0->spacy<4.0.0,>=3.1.3->spacy-transformers) (2.0.12)\n",
            "Requirement already satisfied: urllib3<1.27,>=1.21.1 in /usr/local/lib/python3.9/dist-packages (from requests<3.0.0,>=2.13.0->spacy<4.0.0,>=3.1.3->spacy-transformers) (1.26.15)\n",
            "Requirement already satisfied: certifi>=2017.4.17 in /usr/local/lib/python3.9/dist-packages (from requests<3.0.0,>=2.13.0->spacy<4.0.0,>=3.1.3->spacy-transformers) (2022.12.7)\n",
            "Requirement already satisfied: idna<4,>=2.5 in /usr/local/lib/python3.9/dist-packages (from requests<3.0.0,>=2.13.0->spacy<4.0.0,>=3.1.3->spacy-transformers) (3.4)\n",
            "Requirement already satisfied: click<9.0.0,>=7.1.1 in /usr/local/lib/python3.9/dist-packages (from typer<0.5.0,>=0.3.0->spacy<4.0.0,>=3.1.3->spacy-transformers) (8.1.3)\n",
            "Requirement already satisfied: MarkupSafe>=2.0 in /usr/local/lib/python3.9/dist-packages (from jinja2->spacy<4.0.0,>=3.1.3->spacy-transformers) (2.1.2)\n"
          ]
        },
        {
          "name": "stderr",
          "output_type": "stream",
          "text": [
            "/usr/local/lib/python3.9/dist-packages/torch/cuda/__init__.py:497: UserWarning: Can't initialize NVML\n",
            "  warnings.warn(\"Can't initialize NVML\")\n"
          ]
        }
      ],
      "source": [
        "!pip install https://huggingface.co/bullmount/it_nerIta_trf/resolve/main/it_nerIta_trf-any-py3-none-any.whl\n",
        "!pip install spacy-transformers\n",
        "import spacy_transformers\n",
        "import spacy"
      ]
    },
    {
      "cell_type": "code",
      "execution_count": null,
      "metadata": {
        "id": "kY_Fe2jSPvbE"
      },
      "outputs": [],
      "source": [
        "nlp = spacy.load(\"it_nerIta_trf\")"
      ]
    },
    {
      "cell_type": "code",
      "execution_count": null,
      "metadata": {
        "colab": {
          "base_uri": "https://localhost:8080/",
          "height": 393
        },
        "id": "6tLKrc5sP8fN",
        "outputId": "438245b2-914b-41b5-e928-00f71af3fc5a"
      },
      "outputs": [
        {
          "ename": "ValueError",
          "evalue": "ignored",
          "output_type": "error",
          "traceback": [
            "\u001b[0;31m---------------------------------------------------------------------------\u001b[0m",
            "\u001b[0;31mValueError\u001b[0m                                Traceback (most recent call last)",
            "\u001b[0;32m<ipython-input-35-cb586b30c9f2>\u001b[0m in \u001b[0;36m<cell line: 7>\u001b[0;34m()\u001b[0m\n\u001b[1;32m      6\u001b[0m \u001b[0;31m# Analizza ogni tweet e conta le entità\u001b[0m\u001b[0;34m\u001b[0m\u001b[0;34m\u001b[0m\u001b[0m\n\u001b[1;32m      7\u001b[0m \u001b[0;32mfor\u001b[0m \u001b[0mtweet\u001b[0m \u001b[0;32min\u001b[0m \u001b[0mtweets_df\u001b[0m\u001b[0;34m[\u001b[0m\u001b[0;34m'text'\u001b[0m\u001b[0;34m]\u001b[0m\u001b[0;34m:\u001b[0m\u001b[0;34m\u001b[0m\u001b[0;34m\u001b[0m\u001b[0m\n\u001b[0;32m----> 8\u001b[0;31m     \u001b[0mdoc\u001b[0m \u001b[0;34m=\u001b[0m \u001b[0mnlp\u001b[0m\u001b[0;34m(\u001b[0m\u001b[0mtweet\u001b[0m\u001b[0;34m)\u001b[0m\u001b[0;34m\u001b[0m\u001b[0;34m\u001b[0m\u001b[0m\n\u001b[0m\u001b[1;32m      9\u001b[0m     \u001b[0;32mfor\u001b[0m \u001b[0ment\u001b[0m \u001b[0;32min\u001b[0m \u001b[0mdoc\u001b[0m\u001b[0;34m.\u001b[0m\u001b[0ments\u001b[0m\u001b[0;34m:\u001b[0m\u001b[0;34m\u001b[0m\u001b[0;34m\u001b[0m\u001b[0m\n\u001b[1;32m     10\u001b[0m         \u001b[0;32mif\u001b[0m \u001b[0ment\u001b[0m\u001b[0;34m.\u001b[0m\u001b[0mlabel_\u001b[0m \u001b[0;32mnot\u001b[0m \u001b[0;32min\u001b[0m \u001b[0mentities\u001b[0m\u001b[0;34m:\u001b[0m\u001b[0;34m\u001b[0m\u001b[0;34m\u001b[0m\u001b[0m\n",
            "\u001b[0;32m/usr/local/lib/python3.9/dist-packages/spacy/language.py\u001b[0m in \u001b[0;36m__call__\u001b[0;34m(self, text, disable, component_cfg)\u001b[0m\n\u001b[1;32m   1003\u001b[0m         \u001b[0mDOCS\u001b[0m\u001b[0;34m:\u001b[0m \u001b[0mhttps\u001b[0m\u001b[0;34m:\u001b[0m\u001b[0;34m//\u001b[0m\u001b[0mspacy\u001b[0m\u001b[0;34m.\u001b[0m\u001b[0mio\u001b[0m\u001b[0;34m/\u001b[0m\u001b[0mapi\u001b[0m\u001b[0;34m/\u001b[0m\u001b[0mlanguage\u001b[0m\u001b[0;31m#call\u001b[0m\u001b[0;34m\u001b[0m\u001b[0;34m\u001b[0m\u001b[0m\n\u001b[1;32m   1004\u001b[0m         \"\"\"\n\u001b[0;32m-> 1005\u001b[0;31m         \u001b[0mdoc\u001b[0m \u001b[0;34m=\u001b[0m \u001b[0mself\u001b[0m\u001b[0;34m.\u001b[0m\u001b[0m_ensure_doc\u001b[0m\u001b[0;34m(\u001b[0m\u001b[0mtext\u001b[0m\u001b[0;34m)\u001b[0m\u001b[0;34m\u001b[0m\u001b[0;34m\u001b[0m\u001b[0m\n\u001b[0m\u001b[1;32m   1006\u001b[0m         \u001b[0;32mif\u001b[0m \u001b[0mcomponent_cfg\u001b[0m \u001b[0;32mis\u001b[0m \u001b[0;32mNone\u001b[0m\u001b[0;34m:\u001b[0m\u001b[0;34m\u001b[0m\u001b[0;34m\u001b[0m\u001b[0m\n\u001b[1;32m   1007\u001b[0m             \u001b[0mcomponent_cfg\u001b[0m \u001b[0;34m=\u001b[0m \u001b[0;34m{\u001b[0m\u001b[0;34m}\u001b[0m\u001b[0;34m\u001b[0m\u001b[0;34m\u001b[0m\u001b[0m\n",
            "\u001b[0;32m/usr/local/lib/python3.9/dist-packages/spacy/language.py\u001b[0m in \u001b[0;36m_ensure_doc\u001b[0;34m(self, doc_like)\u001b[0m\n\u001b[1;32m   1094\u001b[0m         \u001b[0;32mif\u001b[0m \u001b[0misinstance\u001b[0m\u001b[0;34m(\u001b[0m\u001b[0mdoc_like\u001b[0m\u001b[0;34m,\u001b[0m \u001b[0mstr\u001b[0m\u001b[0;34m)\u001b[0m\u001b[0;34m:\u001b[0m\u001b[0;34m\u001b[0m\u001b[0;34m\u001b[0m\u001b[0m\n\u001b[1;32m   1095\u001b[0m             \u001b[0;32mreturn\u001b[0m \u001b[0mself\u001b[0m\u001b[0;34m.\u001b[0m\u001b[0mmake_doc\u001b[0m\u001b[0;34m(\u001b[0m\u001b[0mdoc_like\u001b[0m\u001b[0;34m)\u001b[0m\u001b[0;34m\u001b[0m\u001b[0;34m\u001b[0m\u001b[0m\n\u001b[0;32m-> 1096\u001b[0;31m         \u001b[0;32mraise\u001b[0m \u001b[0mValueError\u001b[0m\u001b[0;34m(\u001b[0m\u001b[0mErrors\u001b[0m\u001b[0;34m.\u001b[0m\u001b[0mE866\u001b[0m\u001b[0;34m.\u001b[0m\u001b[0mformat\u001b[0m\u001b[0;34m(\u001b[0m\u001b[0mtype\u001b[0m\u001b[0;34m=\u001b[0m\u001b[0mtype\u001b[0m\u001b[0;34m(\u001b[0m\u001b[0mdoc_like\u001b[0m\u001b[0;34m)\u001b[0m\u001b[0;34m)\u001b[0m\u001b[0;34m)\u001b[0m\u001b[0;34m\u001b[0m\u001b[0;34m\u001b[0m\u001b[0m\n\u001b[0m\u001b[1;32m   1097\u001b[0m \u001b[0;34m\u001b[0m\u001b[0m\n\u001b[1;32m   1098\u001b[0m     \u001b[0;32mdef\u001b[0m \u001b[0m_ensure_doc_with_context\u001b[0m\u001b[0;34m(\u001b[0m\u001b[0mself\u001b[0m\u001b[0;34m,\u001b[0m \u001b[0mdoc_like\u001b[0m\u001b[0;34m:\u001b[0m \u001b[0mUnion\u001b[0m\u001b[0;34m[\u001b[0m\u001b[0mstr\u001b[0m\u001b[0;34m,\u001b[0m \u001b[0mDoc\u001b[0m\u001b[0;34m]\u001b[0m\u001b[0;34m,\u001b[0m \u001b[0mcontext\u001b[0m\u001b[0;34m:\u001b[0m \u001b[0mAny\u001b[0m\u001b[0;34m)\u001b[0m \u001b[0;34m->\u001b[0m \u001b[0mDoc\u001b[0m\u001b[0;34m:\u001b[0m\u001b[0;34m\u001b[0m\u001b[0;34m\u001b[0m\u001b[0m\n",
            "\u001b[0;31mValueError\u001b[0m: [E866] Expected a string or 'Doc' as input, but got: <class 'list'>."
          ]
        }
      ],
      "source": [
        "from collections import Counter\n",
        "\n",
        "# Inizializza un dizionario vuoto per tenere traccia delle entità\n",
        "entities = {}\n",
        "\n",
        "# Analizza ogni tweet e conta le entità\n",
        "for tweet in tweets_df['text']:\n",
        "    doc = nlp(tweet)\n",
        "    for ent in doc.ents:\n",
        "        if ent.label_ not in entities:\n",
        "            entities[ent.label_] = Counter()\n",
        "        entities[ent.label_][ent.text] += 1\n",
        "\n",
        "# Stampa il ranking delle entità per ogni tipo\n",
        "for label, entity_counts in entities.items():\n",
        "    print(\"Entità più comuni per\", label)\n",
        "    for entity, count in entity_counts.most_common():\n",
        "        print(\"\\t\", entity, count)"
      ]
    },
    {
      "cell_type": "code",
      "execution_count": null,
      "metadata": {
        "id": "L82cPxpQ1I3b"
      },
      "outputs": [],
      "source": []
    }
  ],
  "metadata": {
    "colab": {
      "provenance": []
    },
    "kernelspec": {
      "display_name": "Python 3",
      "name": "python3"
    },
    "language_info": {
      "name": "python"
    }
  },
  "nbformat": 4,
  "nbformat_minor": 0
}
